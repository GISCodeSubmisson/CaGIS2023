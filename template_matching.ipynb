{
 "cells": [
  {
   "cell_type": "code",
   "execution_count": 142,
   "id": "aad62d3f",
   "metadata": {},
   "outputs": [],
   "source": [
    "import math\n",
    "import numpy as np\n",
    "import pandas as pd\n",
    "import geopandas as gpd\n",
    "from shapely import affinity\n",
    "from shapely.geometry import * "
   ]
  },
  {
   "cell_type": "markdown",
   "id": "9220b6a9",
   "metadata": {},
   "source": [
    "# functions"
   ]
  },
  {
   "cell_type": "code",
   "execution_count": 143,
   "id": "915b6051",
   "metadata": {},
   "outputs": [],
   "source": [
    "def get_angle(a, b, c):\n",
    "    # based on https://stackoverflow.com/questions/61439009/rotate-alignment-an-image-by-line-along-the-y-axis\n",
    "    \n",
    "    if LineString([a, b]).length > LineString([b, c]).length:\n",
    "        lon_len = LineString([a,b])\n",
    "    else: \n",
    "        lon_len = LineString([b,c])\n",
    "    \n",
    "    P1 = np.array(lon_len.coords[0])\n",
    "    P2 = np.array(lon_len.coords[1])\n",
    "\n",
    "    if (P2[1] - P1[1]) < 0:\n",
    "        if (P2[0] - P1[0]) < 0:\n",
    "            y_axis_vector = np.array([0, -1])\n",
    "            #print('1')\n",
    "        else:\n",
    "            y_axis_vector = np.array([0, 1])\n",
    "            #print('2')\n",
    "    else:\n",
    "        if (P2[0] - P1[0]) < 0:\n",
    "            y_axis_vector = np.array([0, -1])\n",
    "            #print('3')\n",
    "        else:\n",
    "            y_axis_vector = np.array([0, 1])\n",
    "            #print('4')\n",
    "\n",
    "    p_unit_vector = (P2 - P1) / np.linalg.norm(P2-P1)\n",
    "\n",
    "    return np.arccos(np.dot(p_unit_vector, y_axis_vector)) * 180 /math.pi"
   ]
  },
  {
   "cell_type": "code",
   "execution_count": 4,
   "id": "1baa2831",
   "metadata": {},
   "outputs": [],
   "source": [
    "def rotate_to_y_axis(geom):\n",
    "    mbr = geom.minimum_rotated_rectangle\n",
    "    a, b, c = mbr.exterior.coords[0:3]\n",
    "    rotation_angle = get_angle(a, b, c)\n",
    "    return rotation_angle"
   ]
  },
  {
   "cell_type": "code",
   "execution_count": 5,
   "id": "cc56b4a6",
   "metadata": {},
   "outputs": [],
   "source": [
    "def get_long(mrr):\n",
    "    a, b, c = mrr.exterior.coords[0:3]\n",
    "    \n",
    "    if LineString([a, b]).length > LineString([b, c]).length:\n",
    "        return LineString([a,b]).length\n",
    "    else: \n",
    "        return LineString([b,c]).length"
   ]
  },
  {
   "cell_type": "code",
   "execution_count": 6,
   "id": "20ecad7c",
   "metadata": {},
   "outputs": [],
   "source": [
    "def get_short(mrr):\n",
    "    a, b, c = mrr.exterior.coords[0:3]\n",
    "    \n",
    "    if LineString([a, b]).length < LineString([b, c]).length:\n",
    "        return LineString([a,b]).length\n",
    "    else: \n",
    "        return LineString([b,c]).length"
   ]
  },
  {
   "cell_type": "code",
   "execution_count": 7,
   "id": "f9705eaf",
   "metadata": {},
   "outputs": [],
   "source": [
    "def import_reference_dict(path):\n",
    "    char_models_df = gpd.read_file(path)\n",
    "    \n",
    "    char_models_df.set_index('name')\n",
    "\n",
    "    char_models_df['area'] = char_models_df['geometry'].area\n",
    "    char_models_df['mrr'] = gpd.GeoSeries([b.minimum_rotated_rectangle for b in char_models_df['geometry']])\n",
    "    char_models_df['mrr_area'] = char_models_df['mrr'].area\n",
    "    char_models_df['centroid'] = char_models_df['mrr'].centroid\n",
    "    char_models_df['mrr_long'] = pd.Series([get_long(mrr) for mrr in char_models_df['mrr']])\n",
    "    char_models_df['mrr_short'] = pd.Series([get_short(mrr) for mrr in char_models_df['mrr']])\n",
    "\n",
    "    char_models_df['rotate_angle'] = pd.Series([rotate_to_y_axis(geo) for geo in char_models_df['geometry']])\n",
    "    char_models_df['rotate_angle'] = pd.Series([angle if name != 'Z' else angle + 30 for name, angle in char_models_df[['name', 'rotate_angle']].values])\n",
    "    char_models_df['rotated_geom'] = gpd.GeoSeries([affinity.rotate(geo, angle) for geo, angle in char_models_df[['geometry', 'rotate_angle']].values])\n",
    "    \n",
    "    char_models_df['geom_translate'] =  gpd.GeoSeries([affinity.translate(geo, -centroid.x, -centroid.y) for centroid, geo in char_models_df[['centroid', 'rotated_geom']].values])\n",
    "    char_models_df['geom_norm'] =  gpd.GeoSeries([affinity.scale(geo, xfact = 1/xf, yfact = 1/yf, origin=(0,0)) for xf, yf, geo in char_models_df[['mrr_short', 'mrr_long', 'geom_translate']].values])\n",
    "    char_models_df['norm_centroid'] = char_models_df['geom_norm'].centroid\n",
    "    \n",
    "    char_models = {char_models_df['name'].tolist()[i]: char_models_df['geom_norm'].tolist()[i] for i in range(len(char_models_df['name'].tolist()))}\n",
    "    reference_chars = {}\n",
    "    for c in ('O'):\n",
    "        reference_chars[c] = [char_models[c]]\n",
    "    for c in ('I', 'H'):\n",
    "        reference_chars[c] = [char_models[c]]\n",
    "        reference_chars[c].append(affinity.rotate(char_models[c], 90))\n",
    "    for c in ('E', 'T', 'U', 'Y'):\n",
    "        reference_chars[c] = [char_models[c]]\n",
    "        for i in (90, 180, 270):\n",
    "            reference_chars[c].append(affinity.rotate(char_models[c], i))\n",
    "    for c in ('F', 'L', 'Z'):\n",
    "        reference_chars[c] = [char_models[c]]\n",
    "        #for i in (45, 90, 135, 180, 225, 270, 315):\n",
    "        for i in (90, 180, 270):\n",
    "            reference_chars[c].append(affinity.rotate(char_models[c], i))\n",
    "        geom_mirror = affinity.scale(char_models[c], xfact = -1.0, yfact = 1.0)\n",
    "        reference_chars[c].append(geom_mirror)\n",
    "        #for i in (45, 90, 135, 180, 225, 270, 315):\n",
    "        for i in (90, 180, 270):\n",
    "            reference_chars[c].append(affinity.rotate(geom_mirror, i))\n",
    "    return reference_chars"
   ]
  },
  {
   "cell_type": "code",
   "execution_count": 8,
   "id": "e7a8ea89",
   "metadata": {},
   "outputs": [],
   "source": [
    "def preprocess_polygons(polygon_df):\n",
    "    polygon_df['area'] = polygon_df['geometry'].area\n",
    "    polygon_df['mrr'] = gpd.GeoSeries([b.minimum_rotated_rectangle for b in polygon_df['geometry']])\n",
    "    polygon_df['mrr_area'] = polygon_df['mrr'].area\n",
    "    polygon_df['centroid'] = polygon_df['mrr'].centroid\n",
    "    polygon_df['mrr_long'] = pd.Series([get_long(mrr) for mrr in polygon_df['mrr']])\n",
    "    polygon_df['mrr_short'] = pd.Series([get_short(mrr) for mrr in polygon_df['mrr']])\n",
    "\n",
    "    polygon_df['rotate_angle'] = pd.Series([rotate_to_y_axis(geo) for geo in polygon_df['geometry']])\n",
    "    polygon_df['rotated_geom'] = gpd.GeoSeries([affinity.rotate(geo, angle) for geo, angle in polygon_df[['geometry', 'rotate_angle']].values])\n",
    "    polygon_df['geom_translate'] =  gpd.GeoSeries([affinity.translate(geo, -centroid.x, -centroid.y) for centroid, geo in polygon_df[['centroid', 'rotated_geom']].values])\n",
    "    polygon_df['scale'] = pd.Series([1/math.sqrt(area) for area in polygon_df['mrr_area']])\n",
    "    polygon_df['geom_norm'] =  gpd.GeoSeries([affinity.scale(geo, xfact = 1/xf, yfact = 1/yf, origin=(0,0)) for xf, yf, geo in polygon_df[['mrr_short', 'mrr_long', 'geom_translate']].values])\n",
    "    return polygon_df"
   ]
  },
  {
   "cell_type": "code",
   "execution_count": 128,
   "id": "906b0af2",
   "metadata": {},
   "outputs": [],
   "source": [
    "def match_df(geom, mrr_s, mrr_l, angle, char, reference_dict):\n",
    "    best_match_geom = None\n",
    "    best_match_iou = 0\n",
    "    \n",
    "    geom = geom\n",
    "    xf = mrr_s\n",
    "    yf = mrr_l\n",
    "    angle = angle\n",
    "    \n",
    "    for c in reference_dict[char]:\n",
    "        c_s = affinity.scale(c, xfact = xf, yfact = yf, origin=c.minimum_rotated_rectangle.centroid)\n",
    "        c_sr = affinity.rotate(c_s, 180-angle)\n",
    "        g_sr = c_sr.minimum_rotated_rectangle.centroid\n",
    "        c_srt = affinity.translate(c_sr, geom.minimum_rotated_rectangle.centroid.x-g_sr.x, geom.minimum_rotated_rectangle.centroid.y-g_sr.y)\n",
    "        iou = geom.intersection(c_srt).area/geom.union(c_srt).area\n",
    "        if iou > best_match_iou:\n",
    "            best_match_geom = c_srt\n",
    "            best_match_iou = iou\n",
    "        \n",
    "        if char in ('F', 'L', 'Z'):\n",
    "            for i in (45, 90, 135, 180, 225, 270, 315):\n",
    "            #for i in range(0,360,1):    \n",
    "                c_srt_ = affinity.rotate(c_srt, i)\n",
    "                iou_ = geom.intersection(c_srt_).area/geom.union(c_srt_).area\n",
    "                if iou_ > best_match_iou:\n",
    "                    best_match_geom = c_srt_\n",
    "                    best_match_iou = iou_\n",
    "        \n",
    "    #print(best_match_iou)\n",
    "    return best_match_geom"
   ]
  },
  {
   "cell_type": "markdown",
   "id": "5b383ad7",
   "metadata": {},
   "source": [
    "# case study"
   ]
  },
  {
   "cell_type": "code",
   "execution_count": 140,
   "id": "adc2b930",
   "metadata": {},
   "outputs": [],
   "source": [
    "reference_chars = import_reference_dict(path = \"data/10_templates.shp\")\n",
    "path_to_geometries = 'data/case_study.shp'\n",
    "path_to_predictions = 'path to file with class predictions'\n",
    "path_to_results = 'path to file to save results'"
   ]
  },
  {
   "cell_type": "code",
   "execution_count": 141,
   "id": "81641c41",
   "metadata": {},
   "outputs": [],
   "source": [
    "for model in ('CNN', 'RNN', 'GCNN'):\n",
    "    buildings_beijing = gpd.read_file(path_to_geometries)\n",
    "    beijing = pd.read_csv(path_to_predictions+model+\".csv\")\n",
    "    buildings_beijing = preprocess_polygons(buildings_beijing)\n",
    "    buildings_beijing['osm_id']=buildings_beijing['osm_id'].astype('int')\n",
    "    #buildings_beijing['osm_id']\n",
    "    beijing['osm_id_ret'] = beijing['osm_id_ret'].astype('int')\n",
    "    df = pd.merge(buildings_beijing, beijing, left_on='osm_id', right_on = 'osm_id_ret')\n",
    "    df['match_geom'] = gpd.GeoSeries([match_df(geom, mrr_s, mrr_l, angle, char, reference_chars) \n",
    "                                      for geom, mrr_s, mrr_l, angle, char \n",
    "                                      in df[['geometry', 'mrr_short', 'mrr_long', 'rotate_angle', 'shape_prediction']].values])\n",
    "    df_towrite = df.set_geometry('match_geom', crs = 'epsg:25832')\n",
    "    df_towrite = df_towrite[['osm_id', 'match_geom']]\n",
    "    df_towrite.to_csv(path_to_results+model+'.csv')"
   ]
  },
  {
   "cell_type": "code",
   "execution_count": null,
   "id": "7c2072eb",
   "metadata": {},
   "outputs": [],
   "source": []
  },
  {
   "cell_type": "code",
   "execution_count": null,
   "id": "beec503d",
   "metadata": {},
   "outputs": [],
   "source": []
  },
  {
   "cell_type": "code",
   "execution_count": null,
   "id": "c5a627ab",
   "metadata": {},
   "outputs": [],
   "source": []
  },
  {
   "cell_type": "code",
   "execution_count": null,
   "id": "a1cef9d5",
   "metadata": {},
   "outputs": [],
   "source": []
  }
 ],
 "metadata": {
  "kernelspec": {
   "display_name": "Python 3",
   "language": "python",
   "name": "python3"
  },
  "language_info": {
   "codemirror_mode": {
    "name": "ipython",
    "version": 3
   },
   "file_extension": ".py",
   "mimetype": "text/x-python",
   "name": "python",
   "nbconvert_exporter": "python",
   "pygments_lexer": "ipython3",
   "version": "3.7.6"
  },
  "toc": {
   "base_numbering": 1,
   "nav_menu": {},
   "number_sections": false,
   "sideBar": true,
   "skip_h1_title": false,
   "title_cell": "Table of Contents",
   "title_sidebar": "Contents",
   "toc_cell": false,
   "toc_position": {
    "height": "calc(100% - 180px)",
    "left": "10px",
    "top": "150px",
    "width": "165px"
   },
   "toc_section_display": true,
   "toc_window_display": true
  }
 },
 "nbformat": 4,
 "nbformat_minor": 5
}
